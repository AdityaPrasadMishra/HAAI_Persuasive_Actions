{
 "cells": [
  {
   "cell_type": "code",
   "execution_count": 1,
   "metadata": {},
   "outputs": [
    {
     "name": "stderr",
     "output_type": "stream",
     "text": [
      "Using TensorFlow backend.\n"
     ]
    }
   ],
   "source": [
    "from keras.models import Sequential, load_model,model_from_yaml\n",
    "from keras.layers import Dense, Activation, Dropout, LSTM, CuDNNGRU, CuDNNLSTM\n",
    "from keras.optimizers import RMSprop\n",
    "import random\n",
    "import sys\n",
    "import numpy as np\n",
    "import os\n",
    "import time"
   ]
  },
  {
   "cell_type": "code",
   "execution_count": 2,
   "metadata": {},
   "outputs": [
    {
     "data": {
      "text/plain": [
       "24"
      ]
     },
     "execution_count": 2,
     "metadata": {},
     "output_type": "execute_result"
    }
   ],
   "source": [
    "#/* Find the maximum length of lines in the files */\n",
    "maxlengthfname = \"/notebooks/data/LARGES_SEQMODELS/NEW_DATA/TRAIN/filelength\"\n",
    "linearray = []\n",
    "maxval = 0\n",
    "with open(maxlengthfname, 'r') as fin:\n",
    "    linearray = fin.readlines()\n",
    "    for line in linearray:\n",
    "        if '.' in line:\n",
    "            val = int(line.split('.')[0].strip())\n",
    "            if val > maxval:\n",
    "                maxval = val  \n",
    "maxval"
   ]
  },
  {
   "cell_type": "code",
   "execution_count": 3,
   "metadata": {},
   "outputs": [
    {
     "name": "stdout",
     "output_type": "stream",
     "text": [
      "done\n"
     ]
    }
   ],
   "source": [
    "directoryfname = \"/notebooks/data/LARGES_SEQMODELS/NEW_DATA/TRAIN/\"\n",
    "linearray = []\n",
    "actualarray =[]\n",
    "X_Vector = []\n",
    "Y_Vector = []\n",
    "START = \"1000000000000000000000000000000000000000\"\n",
    "STOP  = \"1100000000000000000000000000000000000000\"\n",
    "BLANK = \"1110000000000000000000000000000000000000\"\n",
    "#cvb =   \"001010000000001001001010011010000001010\"\n",
    "\n",
    "startlist = [list(map(int, x)) for x in START]\n",
    "stoplist = [list(map(int, x)) for x in STOP]\n",
    "blanklist = [list(map(int, x)) for x in BLANK]\n",
    "for datafname in os.listdir(directoryfname):\n",
    "    localXVector = []\n",
    "    localYVector = []\n",
    "    if datafname.startswith(\"feature_\"):\n",
    "        with open(directoryfname+datafname, 'r') as fin:\n",
    "            linearray = fin.readlines()\n",
    "            itr = 0\n",
    "            localXVector.append(startlist)\n",
    "            localYVector.append(\"START\")\n",
    "            for line in range(maxval):\n",
    "                if line < len(linearray):\n",
    "                    ln = linearray[line].split(\" \")\n",
    "                    #print(ln)\n",
    "                    localYVector.append(ln[1].strip())\n",
    "                    localXVector.append([[0]] +  [list(map(int, x)) for x in ln[0]])\n",
    "                else:\n",
    "                    localXVector.append(blanklist)\n",
    "                    localYVector.append(\"BLANK\")\n",
    "            localXVector.append(stoplist)\n",
    "            localYVector.append(\"STOP\")  \n",
    "        X_Vector.append(localXVector)\n",
    "        Y_Vector.append(localYVector)\n",
    "X_Vector = np.array(X_Vector)\n",
    "Y_Vector = np.array(Y_Vector)\n",
    "print(\"done\")"
   ]
  },
  {
   "cell_type": "code",
   "execution_count": 4,
   "metadata": {},
   "outputs": [
    {
     "data": {
      "text/plain": [
       "(25500, 26, 40, 1)"
      ]
     },
     "execution_count": 4,
     "metadata": {},
     "output_type": "execute_result"
    }
   ],
   "source": [
    "np.shape(X_Vector)"
   ]
  },
  {
   "cell_type": "code",
   "execution_count": 5,
   "metadata": {},
   "outputs": [
    {
     "data": {
      "text/plain": [
       "(25500, 26)"
      ]
     },
     "execution_count": 5,
     "metadata": {},
     "output_type": "execute_result"
    }
   ],
   "source": [
    "np.shape(Y_Vector)"
   ]
  },
  {
   "cell_type": "code",
   "execution_count": 6,
   "metadata": {},
   "outputs": [
    {
     "data": {
      "text/plain": [
       "{'BLANK': 4, 'EXP': 3, 'START': 1, 'STOP': 2, 'UNEXP': 0}"
      ]
     },
     "execution_count": 6,
     "metadata": {},
     "output_type": "execute_result"
    }
   ],
   "source": [
    "vocab = list(set(Y_Vector.flatten()))\n",
    "vocabdict ={}\n",
    "for itr in range(len(vocab)):\n",
    "    vocabdict[vocab[itr]] = itr\n",
    "vocabdict\n",
    "#{'BLANK': 4, 'EXP': 3, 'START': 1, 'STOP': 2, 'UNEXP': 0}"
   ]
  },
  {
   "cell_type": "code",
   "execution_count": 7,
   "metadata": {},
   "outputs": [
    {
     "data": {
      "text/plain": [
       "array([['START', 'EXP', 'EXP', ..., 'BLANK', 'BLANK', 'STOP'],\n",
       "       ['START', 'EXP', 'EXP', ..., 'BLANK', 'BLANK', 'STOP'],\n",
       "       ['START', 'EXP', 'EXP', ..., 'BLANK', 'BLANK', 'STOP'],\n",
       "       ...,\n",
       "       ['START', 'EXP', 'EXP', ..., 'BLANK', 'BLANK', 'STOP'],\n",
       "       ['START', 'EXP', 'EXP', ..., 'BLANK', 'BLANK', 'STOP'],\n",
       "       ['START', 'EXP', 'EXP', ..., 'BLANK', 'BLANK', 'STOP']],\n",
       "      dtype='<U5')"
      ]
     },
     "execution_count": 7,
     "metadata": {},
     "output_type": "execute_result"
    }
   ],
   "source": [
    "Y_Vector"
   ]
  },
  {
   "cell_type": "code",
   "execution_count": 13,
   "metadata": {},
   "outputs": [
    {
     "name": "stdout",
     "output_type": "stream",
     "text": [
      "Collecting keras\n",
      "\u001b[?25l  Downloading https://files.pythonhosted.org/packages/5e/10/aa32dad071ce52b5502266b5c659451cfd6ffcbf14e6c8c4f16c0ff5aaab/Keras-2.2.4-py2.py3-none-any.whl (312kB)\n",
      "\u001b[K    100% |################################| 317kB 6.2MB/s ta 0:00:011\n",
      "\u001b[?25hRequirement already satisfied: h5py in /usr/local/lib/python3.5/dist-packages (from keras) (2.8.0)\n",
      "Requirement already satisfied: keras-preprocessing>=1.0.5 in /usr/local/lib/python3.5/dist-packages (from keras) (1.0.5)\n",
      "Requirement already satisfied: scipy>=0.14 in /usr/local/lib/python3.5/dist-packages (from keras) (1.1.0)\n",
      "Requirement already satisfied: six>=1.9.0 in /usr/local/lib/python3.5/dist-packages (from keras) (1.11.0)\n",
      "Requirement already satisfied: numpy>=1.9.1 in /usr/local/lib/python3.5/dist-packages (from keras) (1.15.4)\n",
      "Collecting pyyaml (from keras)\n",
      "\u001b[?25l  Downloading https://files.pythonhosted.org/packages/9e/a3/1d13970c3f36777c583f136c136f804d70f500168edc1edea6daa7200769/PyYAML-3.13.tar.gz (270kB)\n",
      "\u001b[K    100% |################################| 276kB 7.2MB/s ta 0:00:011\n",
      "\u001b[?25hRequirement already satisfied: keras-applications>=1.0.6 in /usr/local/lib/python3.5/dist-packages (from keras) (1.0.6)\n",
      "Building wheels for collected packages: pyyaml\n",
      "  Running setup.py bdist_wheel for pyyaml ... \u001b[?25ldone\n",
      "\u001b[?25h  Stored in directory: /root/.cache/pip/wheels/ad/da/0c/74eb680767247273e2cf2723482cb9c924fe70af57c334513f\n",
      "Successfully built pyyaml\n",
      "Installing collected packages: pyyaml, keras\n",
      "Successfully installed keras-2.2.4 pyyaml-3.13\n"
     ]
    }
   ],
   "source": [
    "#!pip install keras\n",
    "#{'BLANK': 1,\n",
    " #'FETCHBOX': 0,\n",
    " #'OBSERVE': 3,\n",
    " #'START': 2,\n",
    " #'STOP': 4,\n",
    " #'UNEXP': 6,\n",
    " #'UNFETCH': 5}\n"
   ]
  },
  {
   "cell_type": "code",
   "execution_count": 8,
   "metadata": {},
   "outputs": [],
   "source": [
    "from keras.models import Sequential, load_model,model_from_yaml\n",
    "from keras.layers import Dense, Activation, Dropout, LSTM, CuDNNGRU, CuDNNLSTM\n",
    "from keras.optimizers import RMSprop, SGD\n",
    "import random\n",
    "import sys"
   ]
  },
  {
   "cell_type": "code",
   "execution_count": 9,
   "metadata": {},
   "outputs": [],
   "source": [
    "X_Vector = X_Vector.reshape((25500, 26, 40))"
   ]
  },
  {
   "cell_type": "code",
   "execution_count": 10,
   "metadata": {},
   "outputs": [
    {
     "data": {
      "text/plain": [
       "array([[[0, 1, 0, 0, 0],\n",
       "        [0, 0, 0, 1, 0],\n",
       "        [0, 0, 0, 1, 0],\n",
       "        ...,\n",
       "        [0, 0, 0, 0, 1],\n",
       "        [0, 0, 0, 0, 1],\n",
       "        [0, 0, 1, 0, 0]],\n",
       "\n",
       "       [[0, 1, 0, 0, 0],\n",
       "        [0, 0, 0, 1, 0],\n",
       "        [0, 0, 0, 1, 0],\n",
       "        ...,\n",
       "        [0, 0, 0, 0, 1],\n",
       "        [0, 0, 0, 0, 1],\n",
       "        [0, 0, 1, 0, 0]],\n",
       "\n",
       "       [[0, 1, 0, 0, 0],\n",
       "        [0, 0, 0, 1, 0],\n",
       "        [0, 0, 0, 1, 0],\n",
       "        ...,\n",
       "        [0, 0, 0, 0, 1],\n",
       "        [0, 0, 0, 0, 1],\n",
       "        [0, 0, 1, 0, 0]],\n",
       "\n",
       "       ...,\n",
       "\n",
       "       [[0, 1, 0, 0, 0],\n",
       "        [0, 0, 0, 1, 0],\n",
       "        [0, 0, 0, 1, 0],\n",
       "        ...,\n",
       "        [0, 0, 0, 0, 1],\n",
       "        [0, 0, 0, 0, 1],\n",
       "        [0, 0, 1, 0, 0]],\n",
       "\n",
       "       [[0, 1, 0, 0, 0],\n",
       "        [0, 0, 0, 1, 0],\n",
       "        [0, 0, 0, 1, 0],\n",
       "        ...,\n",
       "        [0, 0, 0, 0, 1],\n",
       "        [0, 0, 0, 0, 1],\n",
       "        [0, 0, 1, 0, 0]],\n",
       "\n",
       "       [[0, 1, 0, 0, 0],\n",
       "        [0, 0, 0, 1, 0],\n",
       "        [0, 0, 0, 1, 0],\n",
       "        ...,\n",
       "        [0, 0, 0, 0, 1],\n",
       "        [0, 0, 0, 0, 1],\n",
       "        [0, 0, 1, 0, 0]]])"
      ]
     },
     "execution_count": 10,
     "metadata": {},
     "output_type": "execute_result"
    }
   ],
   "source": [
    "Y_Vector_actual = []\n",
    "\n",
    "for ity in range(len(Y_Vector)):\n",
    "    Y_Vector_local = []\n",
    "    for ityy in range(len(Y_Vector[ity])):\n",
    "        cool_vector = [0,0,0,0,0]\n",
    "        cool_vector[vocabdict[Y_Vector[ity][ityy]]] = 1\n",
    "        Y_Vector_local.append(cool_vector)\n",
    "    Y_Vector_actual.append(Y_Vector_local)\n",
    "    \n",
    "Y_Vector_actual = np.array(Y_Vector_actual)\n",
    "Y_Vector_actual"
   ]
  },
  {
   "cell_type": "code",
   "execution_count": 11,
   "metadata": {},
   "outputs": [
    {
     "data": {
      "text/plain": [
       "(25500, 26, 40)"
      ]
     },
     "execution_count": 11,
     "metadata": {},
     "output_type": "execute_result"
    }
   ],
   "source": [
    "np.shape(X_Vector)"
   ]
  },
  {
   "cell_type": "code",
   "execution_count": 12,
   "metadata": {},
   "outputs": [
    {
     "data": {
      "text/plain": [
       "(25500, 26, 5)"
      ]
     },
     "execution_count": 12,
     "metadata": {},
     "output_type": "execute_result"
    }
   ],
   "source": [
    "np.shape(Y_Vector_actual)"
   ]
  },
  {
   "cell_type": "code",
   "execution_count": 16,
   "metadata": {},
   "outputs": [
    {
     "name": "stdout",
     "output_type": "stream",
     "text": [
      "_________________________________________________________________\n",
      "Layer (type)                 Output Shape              Param #   \n",
      "=================================================================\n",
      "cu_dnnlstm_3 (CuDNNLSTM)     (None, 26, 128)           87040     \n",
      "_________________________________________________________________\n",
      "cu_dnnlstm_4 (CuDNNLSTM)     (None, 26, 128)           132096    \n",
      "_________________________________________________________________\n",
      "dense_2 (Dense)              (None, 26, 5)             645       \n",
      "_________________________________________________________________\n",
      "activation_2 (Activation)    (None, 26, 5)             0         \n",
      "=================================================================\n",
      "Total params: 219,781\n",
      "Trainable params: 219,781\n",
      "Non-trainable params: 0\n",
      "_________________________________________________________________\n"
     ]
    }
   ],
   "source": [
    "#model \n",
    "model = Sequential()\n",
    "model.add(CuDNNLSTM(128,input_shape=(26, 40), return_sequences=True))\n",
    "model.add(CuDNNLSTM(128, return_sequences=True))\n",
    "model.add(Dense(5))\n",
    "model.add(Activation('softmax'))\n",
    "model.summary()"
   ]
  },
  {
   "cell_type": "code",
   "execution_count": 17,
   "metadata": {},
   "outputs": [],
   "source": [
    "algorithm = SGD(lr=0.1, momentum=0.3)\n",
    "model.compile(optimizer=algorithm, loss='mean_squared_error', metrics=['accuracy'])"
   ]
  },
  {
   "cell_type": "code",
   "execution_count": 18,
   "metadata": {},
   "outputs": [
    {
     "name": "stdout",
     "output_type": "stream",
     "text": [
      "Train on 20400 samples, validate on 5100 samples\n",
      "Epoch 1/100\n",
      "20400/20400 [==============================] - 21s 1ms/step - loss: 0.0501 - acc: 0.8287 - val_loss: 0.0331 - val_acc: 0.8750\n",
      "Epoch 2/100\n",
      "20400/20400 [==============================] - 19s 934us/step - loss: 0.0268 - acc: 0.9166 - val_loss: 0.0199 - val_acc: 0.9528\n",
      "Epoch 3/100\n",
      "20400/20400 [==============================] - 19s 935us/step - loss: 0.0173 - acc: 0.9505 - val_loss: 0.0133 - val_acc: 0.9677\n",
      "Epoch 4/100\n",
      "20400/20400 [==============================] - 19s 938us/step - loss: 0.0132 - acc: 0.9600 - val_loss: 0.0119 - val_acc: 0.9657\n",
      "Epoch 5/100\n",
      "20400/20400 [==============================] - 19s 940us/step - loss: 0.0107 - acc: 0.9676 - val_loss: 0.0091 - val_acc: 0.9718\n",
      "Epoch 6/100\n",
      "20400/20400 [==============================] - 19s 946us/step - loss: 0.0094 - acc: 0.9709 - val_loss: 0.0087 - val_acc: 0.9713\n",
      "Epoch 7/100\n",
      "20400/20400 [==============================] - 19s 934us/step - loss: 0.0099 - acc: 0.9691 - val_loss: 0.0079 - val_acc: 0.9747\n",
      "Epoch 8/100\n",
      "20400/20400 [==============================] - 19s 939us/step - loss: 0.0091 - acc: 0.9716 - val_loss: 0.0228 - val_acc: 0.9368\n",
      "Epoch 9/100\n",
      "20400/20400 [==============================] - 19s 940us/step - loss: 0.0104 - acc: 0.9680 - val_loss: 0.0070 - val_acc: 0.9771\n",
      "Epoch 10/100\n",
      "20400/20400 [==============================] - 19s 939us/step - loss: 0.0100 - acc: 0.9694 - val_loss: 0.0070 - val_acc: 0.9772\n",
      "Epoch 11/100\n",
      "20400/20400 [==============================] - 19s 939us/step - loss: 0.0120 - acc: 0.9642 - val_loss: 0.0065 - val_acc: 0.9786\n",
      "Epoch 12/100\n",
      "20400/20400 [==============================] - 19s 935us/step - loss: 0.0064 - acc: 0.9789 - val_loss: 0.0063 - val_acc: 0.9790\n",
      "Epoch 13/100\n",
      "20400/20400 [==============================] - 19s 938us/step - loss: 0.0146 - acc: 0.9583 - val_loss: 0.0214 - val_acc: 0.9416\n",
      "Epoch 14/100\n",
      "20400/20400 [==============================] - 19s 944us/step - loss: 0.0081 - acc: 0.9744 - val_loss: 0.0057 - val_acc: 0.9808\n",
      "Epoch 15/100\n",
      "20400/20400 [==============================] - 19s 943us/step - loss: 0.0058 - acc: 0.9808 - val_loss: 0.0055 - val_acc: 0.9816\n",
      "Epoch 16/100\n",
      "20400/20400 [==============================] - 19s 936us/step - loss: 0.0054 - acc: 0.9818 - val_loss: 0.0054 - val_acc: 0.9818\n",
      "Epoch 17/100\n",
      "20400/20400 [==============================] - 19s 936us/step - loss: 0.0052 - acc: 0.9826 - val_loss: 0.0054 - val_acc: 0.9817\n",
      "Epoch 18/100\n",
      "20400/20400 [==============================] - 19s 936us/step - loss: 0.0050 - acc: 0.9833 - val_loss: 0.0056 - val_acc: 0.9810\n",
      "Epoch 19/100\n",
      "20400/20400 [==============================] - 19s 944us/step - loss: 0.0155 - acc: 0.9567 - val_loss: 0.0052 - val_acc: 0.9828\n",
      "Epoch 20/100\n",
      "20400/20400 [==============================] - 19s 951us/step - loss: 0.0047 - acc: 0.9845 - val_loss: 0.0047 - val_acc: 0.9847\n",
      "Epoch 21/100\n",
      "20400/20400 [==============================] - 19s 946us/step - loss: 0.0046 - acc: 0.9850 - val_loss: 0.0054 - val_acc: 0.9815\n",
      "Epoch 22/100\n",
      "20400/20400 [==============================] - 19s 948us/step - loss: 0.0044 - acc: 0.9854 - val_loss: 0.0047 - val_acc: 0.9846\n",
      "Epoch 23/100\n",
      "20400/20400 [==============================] - 19s 932us/step - loss: 0.0058 - acc: 0.9821 - val_loss: 0.0197 - val_acc: 0.9472\n",
      "Epoch 24/100\n",
      "20400/20400 [==============================] - 19s 948us/step - loss: 0.0066 - acc: 0.9802 - val_loss: 0.0043 - val_acc: 0.9859\n",
      "Epoch 25/100\n",
      "20400/20400 [==============================] - 19s 931us/step - loss: 0.0041 - acc: 0.9868 - val_loss: 0.0041 - val_acc: 0.9867\n",
      "Epoch 26/100\n",
      "20400/20400 [==============================] - 19s 931us/step - loss: 0.0040 - acc: 0.9871 - val_loss: 0.0041 - val_acc: 0.9865\n",
      "Epoch 27/100\n",
      "20400/20400 [==============================] - 19s 935us/step - loss: 0.0038 - acc: 0.9876 - val_loss: 0.0040 - val_acc: 0.9874\n",
      "Epoch 28/100\n",
      "20400/20400 [==============================] - 19s 933us/step - loss: 0.0037 - acc: 0.9879 - val_loss: 0.0040 - val_acc: 0.9868\n",
      "Epoch 29/100\n",
      "20400/20400 [==============================] - 19s 940us/step - loss: 0.0123 - acc: 0.9666 - val_loss: 0.0192 - val_acc: 0.9489\n",
      "Epoch 30/100\n",
      "20400/20400 [==============================] - 19s 933us/step - loss: 0.0094 - acc: 0.9737 - val_loss: 0.0044 - val_acc: 0.9853\n",
      "Epoch 31/100\n",
      "20400/20400 [==============================] - 19s 932us/step - loss: 0.0034 - acc: 0.9889 - val_loss: 0.0043 - val_acc: 0.9853\n",
      "Epoch 32/100\n",
      "20400/20400 [==============================] - 19s 937us/step - loss: 0.0079 - acc: 0.9777 - val_loss: 0.0034 - val_acc: 0.9888\n",
      "Epoch 33/100\n",
      "20400/20400 [==============================] - 19s 931us/step - loss: 0.0054 - acc: 0.9840 - val_loss: 0.0125 - val_acc: 0.9580\n",
      "Epoch 34/100\n",
      "20400/20400 [==============================] - 19s 935us/step - loss: 0.0030 - acc: 0.9904 - val_loss: 0.0030 - val_acc: 0.9903\n",
      "Epoch 35/100\n",
      "20400/20400 [==============================] - 19s 942us/step - loss: 0.0028 - acc: 0.9909 - val_loss: 0.0029 - val_acc: 0.9907\n",
      "Epoch 36/100\n",
      "20400/20400 [==============================] - 20s 959us/step - loss: 0.0027 - acc: 0.9913 - val_loss: 0.0030 - val_acc: 0.9904\n",
      "Epoch 37/100\n",
      "20400/20400 [==============================] - 18s 893us/step - loss: 0.0071 - acc: 0.9796 - val_loss: 0.0038 - val_acc: 0.9875\n",
      "Epoch 38/100\n",
      "20400/20400 [==============================] - 20s 981us/step - loss: 0.0025 - acc: 0.9923 - val_loss: 0.0027 - val_acc: 0.9913\n",
      "Epoch 39/100\n",
      "20400/20400 [==============================] - 18s 890us/step - loss: 0.0026 - acc: 0.9919 - val_loss: 0.0026 - val_acc: 0.9917\n",
      "Epoch 40/100\n",
      "20400/20400 [==============================] - 18s 884us/step - loss: 0.0043 - acc: 0.9880 - val_loss: 0.0025 - val_acc: 0.9917\n",
      "Epoch 41/100\n",
      "20400/20400 [==============================] - 18s 888us/step - loss: 0.0083 - acc: 0.9772 - val_loss: 0.0031 - val_acc: 0.9898\n",
      "Epoch 42/100\n",
      "20400/20400 [==============================] - 18s 886us/step - loss: 0.0070 - acc: 0.9805 - val_loss: 0.0028 - val_acc: 0.9914\n",
      "Epoch 43/100\n",
      "20400/20400 [==============================] - 18s 884us/step - loss: 0.0031 - acc: 0.9907 - val_loss: 0.0028 - val_acc: 0.9909\n",
      "Epoch 44/100\n",
      "20400/20400 [==============================] - 18s 886us/step - loss: 0.0023 - acc: 0.9929 - val_loss: 0.0024 - val_acc: 0.9926\n",
      "Epoch 45/100\n",
      "20400/20400 [==============================] - 18s 881us/step - loss: 0.0022 - acc: 0.9933 - val_loss: 0.0026 - val_acc: 0.9919\n",
      "Epoch 46/100\n",
      "20400/20400 [==============================] - 18s 889us/step - loss: 0.0053 - acc: 0.9856 - val_loss: 0.0178 - val_acc: 0.9542\n",
      "Epoch 47/100\n",
      "20400/20400 [==============================] - 18s 888us/step - loss: 0.0099 - acc: 0.9740 - val_loss: 0.0021 - val_acc: 0.9939\n",
      "Epoch 48/100\n",
      "20400/20400 [==============================] - 18s 883us/step - loss: 0.0019 - acc: 0.9942 - val_loss: 0.0021 - val_acc: 0.9933\n",
      "Epoch 49/100\n",
      "20400/20400 [==============================] - 18s 889us/step - loss: 0.0019 - acc: 0.9943 - val_loss: 0.0020 - val_acc: 0.9939\n",
      "Epoch 50/100\n",
      "20400/20400 [==============================] - 18s 885us/step - loss: 0.0018 - acc: 0.9945 - val_loss: 0.0021 - val_acc: 0.9935\n",
      "Epoch 51/100\n",
      "20400/20400 [==============================] - 18s 885us/step - loss: 0.0018 - acc: 0.9946 - val_loss: 0.0020 - val_acc: 0.9937\n",
      "Epoch 52/100\n",
      "20400/20400 [==============================] - 18s 883us/step - loss: 0.0017 - acc: 0.9948 - val_loss: 0.0020 - val_acc: 0.9934\n",
      "Epoch 53/100\n",
      "20400/20400 [==============================] - 18s 886us/step - loss: 0.0017 - acc: 0.9949 - val_loss: 0.0020 - val_acc: 0.9940\n",
      "Epoch 54/100\n",
      "20400/20400 [==============================] - 18s 886us/step - loss: 0.0016 - acc: 0.9951 - val_loss: 0.0019 - val_acc: 0.9944\n",
      "Epoch 55/100\n",
      "20400/20400 [==============================] - 18s 886us/step - loss: 0.0016 - acc: 0.9952 - val_loss: 0.0018 - val_acc: 0.9946\n",
      "Epoch 56/100\n",
      "20400/20400 [==============================] - 18s 885us/step - loss: 0.0016 - acc: 0.9952 - val_loss: 0.0018 - val_acc: 0.9943\n",
      "Epoch 57/100\n",
      "20400/20400 [==============================] - 18s 881us/step - loss: 0.0015 - acc: 0.9954 - val_loss: 0.0020 - val_acc: 0.9939\n",
      "Epoch 58/100\n",
      "20400/20400 [==============================] - 18s 884us/step - loss: 0.0015 - acc: 0.9955 - val_loss: 0.0017 - val_acc: 0.9948\n"
     ]
    },
    {
     "name": "stdout",
     "output_type": "stream",
     "text": [
      "Epoch 59/100\n",
      "20400/20400 [==============================] - 18s 899us/step - loss: 0.0015 - acc: 0.9957 - val_loss: 0.0018 - val_acc: 0.9944\n",
      "Epoch 60/100\n",
      "20400/20400 [==============================] - 18s 904us/step - loss: 0.0014 - acc: 0.9956 - val_loss: 0.0020 - val_acc: 0.9936\n",
      "Epoch 61/100\n",
      "20400/20400 [==============================] - 18s 907us/step - loss: 0.0014 - acc: 0.9957 - val_loss: 0.0019 - val_acc: 0.9941\n",
      "Epoch 62/100\n",
      "20400/20400 [==============================] - 18s 901us/step - loss: 0.0052 - acc: 0.9863 - val_loss: 0.0170 - val_acc: 0.9564\n",
      "Epoch 63/100\n",
      "20400/20400 [==============================] - 18s 903us/step - loss: 0.0139 - acc: 0.9645 - val_loss: 0.0172 - val_acc: 0.9558\n",
      "Epoch 64/100\n",
      "20400/20400 [==============================] - 18s 905us/step - loss: 0.0064 - acc: 0.9833 - val_loss: 0.0017 - val_acc: 0.9945\n",
      "Epoch 65/100\n",
      "20400/20400 [==============================] - 18s 902us/step - loss: 0.0013 - acc: 0.9960 - val_loss: 0.0016 - val_acc: 0.9953\n",
      "Epoch 66/100\n",
      "20400/20400 [==============================] - 18s 904us/step - loss: 0.0013 - acc: 0.9961 - val_loss: 0.0016 - val_acc: 0.9952\n",
      "Epoch 67/100\n",
      "20400/20400 [==============================] - 18s 900us/step - loss: 0.0013 - acc: 0.9962 - val_loss: 0.0018 - val_acc: 0.9942\n",
      "Epoch 68/100\n",
      "20400/20400 [==============================] - 18s 903us/step - loss: 0.0013 - acc: 0.9961 - val_loss: 0.0016 - val_acc: 0.9951\n",
      "Epoch 69/100\n",
      "20400/20400 [==============================] - 18s 902us/step - loss: 0.0012 - acc: 0.9962 - val_loss: 0.0016 - val_acc: 0.9952\n",
      "Epoch 70/100\n",
      "20400/20400 [==============================] - 18s 902us/step - loss: 0.0012 - acc: 0.9963 - val_loss: 0.0015 - val_acc: 0.9955\n",
      "Epoch 71/100\n",
      "20400/20400 [==============================] - 18s 898us/step - loss: 0.0012 - acc: 0.9963 - val_loss: 0.0015 - val_acc: 0.9953\n",
      "Epoch 72/100\n",
      "20400/20400 [==============================] - 18s 901us/step - loss: 0.0012 - acc: 0.9963 - val_loss: 0.0015 - val_acc: 0.9955\n",
      "Epoch 73/100\n",
      "20400/20400 [==============================] - 18s 904us/step - loss: 0.0012 - acc: 0.9965 - val_loss: 0.0015 - val_acc: 0.9952\n",
      "Epoch 74/100\n",
      "20400/20400 [==============================] - 19s 928us/step - loss: 0.0012 - acc: 0.9964 - val_loss: 0.0015 - val_acc: 0.9953\n",
      "Epoch 75/100\n",
      "20400/20400 [==============================] - 19s 926us/step - loss: 0.0012 - acc: 0.9965 - val_loss: 0.0016 - val_acc: 0.9951\n",
      "Epoch 76/100\n",
      "20400/20400 [==============================] - 19s 923us/step - loss: 0.0043 - acc: 0.9887 - val_loss: 0.0168 - val_acc: 0.9571\n",
      "Epoch 77/100\n",
      "20400/20400 [==============================] - 19s 924us/step - loss: 0.0165 - acc: 0.9581 - val_loss: 0.0169 - val_acc: 0.9568\n",
      "Epoch 78/100\n",
      "20400/20400 [==============================] - 19s 927us/step - loss: 0.0088 - acc: 0.9772 - val_loss: 0.0015 - val_acc: 0.9954\n",
      "Epoch 79/100\n",
      "20400/20400 [==============================] - 19s 924us/step - loss: 0.0011 - acc: 0.9966 - val_loss: 0.0014 - val_acc: 0.9957\n",
      "Epoch 80/100\n",
      "20400/20400 [==============================] - 19s 927us/step - loss: 0.0011 - acc: 0.9967 - val_loss: 0.0014 - val_acc: 0.9954\n",
      "Epoch 81/100\n",
      "20400/20400 [==============================] - 19s 920us/step - loss: 0.0052 - acc: 0.9865 - val_loss: 0.0167 - val_acc: 0.9573\n",
      "Epoch 82/100\n",
      "20400/20400 [==============================] - 19s 931us/step - loss: 0.0164 - acc: 0.9584 - val_loss: 0.0168 - val_acc: 0.9571\n",
      "Epoch 83/100\n",
      "20400/20400 [==============================] - 19s 925us/step - loss: 0.0161 - acc: 0.9590 - val_loss: 0.0168 - val_acc: 0.9571\n",
      "Epoch 84/100\n",
      "20400/20400 [==============================] - 19s 926us/step - loss: 0.0164 - acc: 0.9584 - val_loss: 0.0167 - val_acc: 0.9572\n",
      "Epoch 85/100\n",
      "20400/20400 [==============================] - 19s 923us/step - loss: 0.0164 - acc: 0.9585 - val_loss: 0.0168 - val_acc: 0.9571\n",
      "Epoch 86/100\n",
      "20400/20400 [==============================] - 19s 928us/step - loss: 0.0132 - acc: 0.9662 - val_loss: 0.0013 - val_acc: 0.9959\n",
      "Epoch 87/100\n",
      "20400/20400 [==============================] - 19s 930us/step - loss: 0.0010 - acc: 0.9970 - val_loss: 0.0013 - val_acc: 0.9957\n",
      "Epoch 88/100\n",
      "20400/20400 [==============================] - 19s 926us/step - loss: 9.7402e-04 - acc: 0.9971 - val_loss: 0.0014 - val_acc: 0.9954\n",
      "Epoch 89/100\n",
      "20400/20400 [==============================] - 19s 927us/step - loss: 9.6286e-04 - acc: 0.9971 - val_loss: 0.0014 - val_acc: 0.9956\n",
      "Epoch 90/100\n",
      "20400/20400 [==============================] - 19s 926us/step - loss: 9.4723e-04 - acc: 0.9971 - val_loss: 0.0014 - val_acc: 0.9957\n",
      "Epoch 91/100\n",
      "20400/20400 [==============================] - 19s 925us/step - loss: 9.6236e-04 - acc: 0.9970 - val_loss: 0.0013 - val_acc: 0.9958\n",
      "Epoch 92/100\n",
      "20400/20400 [==============================] - 19s 924us/step - loss: 9.4567e-04 - acc: 0.9971 - val_loss: 0.0013 - val_acc: 0.9959\n",
      "Epoch 93/100\n",
      "20400/20400 [==============================] - 19s 927us/step - loss: 9.2426e-04 - acc: 0.9972 - val_loss: 0.0013 - val_acc: 0.9961\n",
      "Epoch 94/100\n",
      "20400/20400 [==============================] - 19s 924us/step - loss: 9.0559e-04 - acc: 0.9972 - val_loss: 0.0013 - val_acc: 0.9959\n",
      "Epoch 95/100\n",
      "20400/20400 [==============================] - 19s 927us/step - loss: 8.9606e-04 - acc: 0.9973 - val_loss: 0.0013 - val_acc: 0.9959\n",
      "Epoch 96/100\n",
      "20400/20400 [==============================] - 19s 924us/step - loss: 8.8909e-04 - acc: 0.9973 - val_loss: 0.0013 - val_acc: 0.9958\n",
      "Epoch 97/100\n",
      "20400/20400 [==============================] - 19s 927us/step - loss: 8.8302e-04 - acc: 0.9973 - val_loss: 0.0013 - val_acc: 0.9960\n",
      "Epoch 98/100\n",
      "20400/20400 [==============================] - 19s 926us/step - loss: 8.5906e-04 - acc: 0.9973 - val_loss: 0.0012 - val_acc: 0.9961\n",
      "Epoch 99/100\n",
      "20400/20400 [==============================] - 19s 928us/step - loss: 8.5712e-04 - acc: 0.9974 - val_loss: 0.0014 - val_acc: 0.9953\n",
      "Epoch 100/100\n",
      "20400/20400 [==============================] - 19s 926us/step - loss: 8.5162e-04 - acc: 0.9973 - val_loss: 0.0014 - val_acc: 0.9954\n",
      "dict_keys(['val_acc', 'acc', 'loss', 'val_loss'])\n"
     ]
    }
   ],
   "source": [
    "from sklearn.model_selection import train_test_split\n",
    "data_train, data_test, labels_train, labels_test = train_test_split(X_Vector, Y_Vector_actual, test_size=0.20, random_state=89)\n",
    "history = model.fit(X_Vector, Y_Vector_actual, validation_split=0.20, batch_size=10, epochs=100)\n",
    "# list all data in history\n",
    "print(history.history.keys())"
   ]
  },
  {
   "cell_type": "code",
   "execution_count": 19,
   "metadata": {},
   "outputs": [],
   "source": [
    "import matplotlib.pyplot as plt"
   ]
  },
  {
   "cell_type": "code",
   "execution_count": 20,
   "metadata": {
    "scrolled": true
   },
   "outputs": [
    {
     "data": {
      "image/png": "[encoded data removed]",
      "text/plain": [
       "<Figure size 432x288 with 1 Axes>"
      ]
     },
     "metadata": {
      "needs_background": "light"
     },
     "output_type": "display_data"
    }
   ],
   "source": [
    "plt.plot(history.history['acc'])\n",
    "plt.plot(history.history['val_acc'])\n",
    "plt.title('model accuracy')\n",
    "plt.ylabel('accuracy')\n",
    "plt.xlabel('epoch')\n",
    "plt.legend(['train', 'test'], loc='upper left')\n",
    "plt.show()"
   ]
  },
  {
   "cell_type": "code",
   "execution_count": 21,
   "metadata": {},
   "outputs": [
    {
     "data": {
      "image/png": "[encoded data removed]",
      "text/plain": [
       "<Figure size 432x288 with 1 Axes>"
      ]
     },
     "metadata": {
      "needs_background": "light"
     },
     "output_type": "display_data"
    }
   ],
   "source": [
    "plt.plot(history.history['loss'])\n",
    "plt.plot(history.history['val_loss'])\n",
    "plt.title('model loss')\n",
    "plt.ylabel('loss')\n",
    "plt.xlabel('epoch')\n",
    "plt.legend(['train', 'test'], loc='upper left')\n",
    "plt.show()"
   ]
  },
  {
   "cell_type": "code",
   "execution_count": 22,
   "metadata": {},
   "outputs": [],
   "source": [
    "model.save(\"Sequential_Labels_DNNLSTM_55_LARGE.h5\")"
   ]
  },
  {
   "cell_type": "code",
   "execution_count": 23,
   "metadata": {},
   "outputs": [
    {
     "data": {
      "text/plain": [
       "array([[0, 1, 0, 0, 0],\n",
       "       [0, 0, 0, 1, 0],\n",
       "       [0, 0, 0, 1, 0],\n",
       "       [0, 0, 0, 1, 0],\n",
       "       [0, 0, 0, 1, 0],\n",
       "       [0, 0, 0, 1, 0],\n",
       "       [0, 0, 0, 1, 0],\n",
       "       [0, 0, 0, 1, 0],\n",
       "       [0, 0, 0, 1, 0],\n",
       "       [0, 0, 0, 1, 0],\n",
       "       [0, 0, 0, 1, 0],\n",
       "       [0, 0, 0, 1, 0],\n",
       "       [1, 0, 0, 0, 0],\n",
       "       [1, 0, 0, 0, 0],\n",
       "       [1, 0, 0, 0, 0],\n",
       "       [0, 0, 0, 0, 1],\n",
       "       [0, 0, 0, 0, 1],\n",
       "       [0, 0, 0, 0, 1],\n",
       "       [0, 0, 0, 0, 1],\n",
       "       [0, 0, 0, 0, 1],\n",
       "       [0, 0, 0, 0, 1],\n",
       "       [0, 0, 0, 0, 1],\n",
       "       [0, 0, 0, 0, 1],\n",
       "       [0, 0, 0, 0, 1],\n",
       "       [0, 0, 0, 0, 1],\n",
       "       [0, 0, 1, 0, 0]])"
      ]
     },
     "execution_count": 23,
     "metadata": {},
     "output_type": "execute_result"
    }
   ],
   "source": [
    "Y_Vector_actual[546]"
   ]
  },
  {
   "cell_type": "code",
   "execution_count": 24,
   "metadata": {},
   "outputs": [
    {
     "data": {
      "text/plain": [
       "array(['START', 'EXP', 'EXP', 'EXP', 'EXP', 'EXP', 'EXP', 'EXP', 'EXP',\n",
       "       'EXP', 'EXP', 'EXP', 'UNEXP', 'UNEXP', 'UNEXP', 'BLANK', 'BLANK',\n",
       "       'BLANK', 'BLANK', 'BLANK', 'BLANK', 'BLANK', 'BLANK', 'BLANK',\n",
       "       'BLANK', 'STOP'], dtype='<U5')"
      ]
     },
     "execution_count": 24,
     "metadata": {},
     "output_type": "execute_result"
    }
   ],
   "source": [
    "Y_Vector[546]"
   ]
  },
  {
   "cell_type": "code",
   "execution_count": 25,
   "metadata": {},
   "outputs": [
    {
     "data": {
      "text/plain": [
       "array([[1, 0, 0, ..., 0, 0, 0],\n",
       "       [0, 0, 1, ..., 0, 1, 0],\n",
       "       [0, 0, 1, ..., 0, 1, 0],\n",
       "       ...,\n",
       "       [1, 1, 1, ..., 0, 0, 0],\n",
       "       [1, 1, 1, ..., 0, 0, 0],\n",
       "       [1, 1, 0, ..., 0, 0, 0]])"
      ]
     },
     "execution_count": 25,
     "metadata": {},
     "output_type": "execute_result"
    }
   ],
   "source": [
    "X_Vector[546]"
   ]
  },
  {
   "cell_type": "code",
   "execution_count": 27,
   "metadata": {},
   "outputs": [
    {
     "name": "stdout",
     "output_type": "stream",
     "text": [
      "(array([1]),)\n",
      "(array([3]),)\n",
      "(array([3]),)\n",
      "(array([3]),)\n",
      "(array([3]),)\n",
      "(array([3]),)\n",
      "(array([3]),)\n",
      "(array([3]),)\n",
      "(array([3]),)\n",
      "(array([3]),)\n",
      "(array([3]),)\n",
      "(array([3]),)\n",
      "(array([0]),)\n",
      "(array([0]),)\n",
      "(array([0]),)\n",
      "(array([4]),)\n",
      "(array([4]),)\n",
      "(array([4]),)\n",
      "(array([4]),)\n",
      "(array([4]),)\n",
      "(array([4]),)\n",
      "(array([4]),)\n",
      "(array([4]),)\n",
      "(array([4]),)\n",
      "(array([4]),)\n",
      "(array([2]),)\n"
     ]
    }
   ],
   "source": [
    "resultss = model.predict(X_Vector[546].reshape(1, 26, 40))\n",
    "for results in resultss:\n",
    "    for res in results:\n",
    "        maxi = np.max(res)\n",
    "        print(np.where(res == maxi))  "
   ]
  },
  {
   "cell_type": "code",
   "execution_count": 67,
   "metadata": {},
   "outputs": [
    {
     "name": "stdout",
     "output_type": "stream",
     "text": [
      "3.5.2 (default, Nov 23 2017, 16:37:01) \n",
      "[GCC 5.4.0 20160609]\n"
     ]
    }
   ],
   "source": [
    " print (sys.version)"
   ]
  },
  {
   "cell_type": "code",
   "execution_count": 69,
   "metadata": {},
   "outputs": [
    {
     "name": "stdout",
     "output_type": "stream",
     "text": [
      "1.12.0\n"
     ]
    }
   ],
   "source": [
    "import tensorflow as tf\n",
    "print(tf.__version__)"
   ]
  },
  {
   "cell_type": "code",
   "execution_count": 70,
   "metadata": {},
   "outputs": [
    {
     "name": "stdout",
     "output_type": "stream",
     "text": [
      "Package             Version               \r\n",
      "------------------- ----------------------\r\n",
      "absl-py             0.6.1                 \r\n",
      "astor               0.7.1                 \r\n",
      "backcall            0.1.0                 \r\n",
      "bleach              3.0.2                 \r\n",
      "cycler              0.10.0                \r\n",
      "decorator           4.3.0                 \r\n",
      "defusedxml          0.5.0                 \r\n",
      "entrypoints         0.2.3                 \r\n",
      "gast                0.2.0                 \r\n",
      "grpcio              1.16.0                \r\n",
      "h5py                2.8.0                 \r\n",
      "ipykernel           5.1.0                 \r\n",
      "ipython             7.1.1                 \r\n",
      "ipython-genutils    0.2.0                 \r\n",
      "ipywidgets          7.4.2                 \r\n",
      "jedi                0.13.1                \r\n",
      "Jinja2              2.10                  \r\n",
      "jsonschema          2.6.0                 \r\n",
      "jupyter             1.0.0                 \r\n",
      "jupyter-client      5.2.3                 \r\n",
      "jupyter-console     6.0.0                 \r\n",
      "jupyter-core        4.4.0                 \r\n",
      "Keras               2.2.4                 \r\n",
      "Keras-Applications  1.0.6                 \r\n",
      "Keras-Preprocessing 1.0.5                 \r\n",
      "kiwisolver          1.0.1                 \r\n",
      "Markdown            3.0.1                 \r\n",
      "MarkupSafe          1.1.0                 \r\n",
      "matplotlib          3.0.1                 \r\n",
      "mistune             0.8.4                 \r\n",
      "nbconvert           5.4.0                 \r\n",
      "nbformat            4.4.0                 \r\n",
      "notebook            5.7.0                 \r\n",
      "numpy               1.15.4                \r\n",
      "pandas              0.23.4                \r\n",
      "pandocfilters       1.4.2                 \r\n",
      "parso               0.3.1                 \r\n",
      "pexpect             4.6.0                 \r\n",
      "pickleshare         0.7.5                 \r\n",
      "Pillow              5.3.0                 \r\n",
      "pip                 18.1                  \r\n",
      "prometheus-client   0.4.2                 \r\n",
      "prompt-toolkit      2.0.7                 \r\n",
      "protobuf            3.6.1                 \r\n",
      "ptyprocess          0.6.0                 \r\n",
      "pycurl              7.43.0                \r\n",
      "Pygments            2.2.0                 \r\n",
      "pygobject           3.20.0                \r\n",
      "pyparsing           2.3.0                 \r\n",
      "python-apt          1.1.0b1+ubuntu0.16.4.2\r\n",
      "python-dateutil     2.7.5                 \r\n",
      "pytz                2018.7                \r\n",
      "PyYAML              3.13                  \r\n",
      "pyzmq               17.1.2                \r\n",
      "qtconsole           4.4.2                 \r\n",
      "scikit-learn        0.20.0                \r\n",
      "scipy               1.1.0                 \r\n",
      "Send2Trash          1.5.0                 \r\n",
      "setuptools          40.5.0                \r\n",
      "six                 1.11.0                \r\n",
      "sklearn             0.0                   \r\n",
      "tensorboard         1.12.0                \r\n",
      "tensorflow-gpu      1.12.0                \r\n",
      "termcolor           1.1.0                 \r\n",
      "terminado           0.8.1                 \r\n",
      "testpath            0.4.2                 \r\n",
      "tornado             5.1.1                 \r\n",
      "traitlets           4.3.2                 \r\n",
      "wcwidth             0.1.7                 \r\n",
      "webencodings        0.5.1                 \r\n",
      "Werkzeug            0.14.1                \r\n",
      "wheel               0.32.2                \r\n",
      "widgetsnbextension  3.4.2                 \r\n"
     ]
    }
   ],
   "source": [
    "!pip list"
   ]
  },
  {
   "cell_type": "code",
   "execution_count": null,
   "metadata": {},
   "outputs": [],
   "source": []
  }
 ],
 "metadata": {
  "kernelspec": {
   "display_name": "Python 3",
   "language": "python",
   "name": "python3"
  },
  "language_info": {
   "codemirror_mode": {
    "name": "ipython",
    "version": 3
   },
   "file_extension": ".py",
   "mimetype": "text/x-python",
   "name": "python",
   "nbconvert_exporter": "python",
   "pygments_lexer": "ipython3",
   "version": "3.5.2"
  }
 },
 "nbformat": 4,
 "nbformat_minor": 2
}
