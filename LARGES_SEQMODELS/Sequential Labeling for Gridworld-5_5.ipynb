{
 "cells": [
  {
   "cell_type": "code",
   "execution_count": 4,
   "metadata": {},
   "outputs": [],
   "source": [
    "from keras.models import Sequential, load_model,model_from_yaml\n",
    "from keras.layers import Dense, Activation, Dropout, LSTM, CuDNNGRU, CuDNNLSTM\n",
    "from keras.optimizers import RMSprop\n",
    "import random\n",
    "import sys\n",
    "import numpy as np\n",
    "import os\n",
    "import time"
   ]
  },
  {
   "cell_type": "code",
   "execution_count": 5,
   "metadata": {},
   "outputs": [
    {
     "data": {
      "text/plain": [
       "26"
      ]
     },
     "execution_count": 5,
     "metadata": {},
     "output_type": "execute_result"
    }
   ],
   "source": [
    "#/* Find the maximum length of lines in the files */\n",
    "maxlengthfname = \"/notebooks/data/LARGES_SEQMODELS/DATA/filelength\"\n",
    "linearray = []\n",
    "maxval = 0\n",
    "with open(maxlengthfname, 'r') as fin:\n",
    "    linearray = fin.readlines()\n",
    "    for line in linearray:\n",
    "        if '.' in line:\n",
    "            val = int(line.split('.')[0].strip())\n",
    "            if val > maxval:\n",
    "                maxval = val  \n",
    "maxval"
   ]
  },
  {
   "cell_type": "code",
   "execution_count": 12,
   "metadata": {},
   "outputs": [
    {
     "name": "stdout",
     "output_type": "stream",
     "text": [
      "done\n"
     ]
    }
   ],
   "source": [
    "directoryfname = \"/notebooks/data/LARGES_SEQMODELS/DATA/\"\n",
    "linearray = []\n",
    "actualarray =[]\n",
    "X_Vector = []\n",
    "Y_Vector = []\n",
    "START = \"1000000000000000000000000000000000000000\"\n",
    "STOP  = \"1100000000000000000000000000000000000000\"\n",
    "BLANK = \"1110000000000000000000000000000000000000\"\n",
    "#cvb =   \"001010000000001001001010011010000001010\"\n",
    "\n",
    "startlist = [list(map(int, x)) for x in START]\n",
    "stoplist = [list(map(int, x)) for x in STOP]\n",
    "blanklist = [list(map(int, x)) for x in BLANK]\n",
    "for datafname in os.listdir(directoryfname):\n",
    "    localXVector = []\n",
    "    localYVector = []\n",
    "    if datafname.startswith(\"feature_\"):\n",
    "        with open(directoryfname+datafname, 'r') as fin:\n",
    "            linearray = fin.readlines()\n",
    "            itr = 0\n",
    "            localXVector.append(startlist)\n",
    "            localYVector.append(\"START\")\n",
    "            for line in range(maxval):\n",
    "                if line < len(linearray):\n",
    "                    ln = linearray[line].split(\" \")\n",
    "                    #print(ln)\n",
    "                    localYVector.append(ln[1].strip())\n",
    "                    localXVector.append([[0]] +  [list(map(int, x)) for x in ln[0]])\n",
    "                else:\n",
    "                    localXVector.append(blanklist)\n",
    "                    localYVector.append(\"BLANK\")\n",
    "            localXVector.append(stoplist)\n",
    "            localYVector.append(\"STOP\")  \n",
    "        X_Vector.append(localXVector)\n",
    "        Y_Vector.append(localYVector)\n",
    "X_Vector = np.array(X_Vector)\n",
    "Y_Vector = np.array(Y_Vector)\n",
    "print(\"done\")"
   ]
  },
  {
   "cell_type": "code",
   "execution_count": 13,
   "metadata": {},
   "outputs": [
    {
     "data": {
      "text/plain": [
       "(4422, 28, 40, 1)"
      ]
     },
     "execution_count": 13,
     "metadata": {},
     "output_type": "execute_result"
    }
   ],
   "source": [
    "np.shape(X_Vector)"
   ]
  },
  {
   "cell_type": "code",
   "execution_count": 14,
   "metadata": {},
   "outputs": [
    {
     "data": {
      "text/plain": [
       "(4422, 28)"
      ]
     },
     "execution_count": 14,
     "metadata": {},
     "output_type": "execute_result"
    }
   ],
   "source": [
    "np.shape(Y_Vector)"
   ]
  },
  {
   "cell_type": "code",
   "execution_count": 15,
   "metadata": {},
   "outputs": [
    {
     "data": {
      "text/plain": [
       "{'BLANK': 4, 'EXP': 1, 'START': 0, 'STOP': 3, 'UNEXP': 2}"
      ]
     },
     "execution_count": 15,
     "metadata": {},
     "output_type": "execute_result"
    }
   ],
   "source": [
    "vocab = list(set(Y_Vector.flatten()))\n",
    "vocabdict ={}\n",
    "for itr in range(len(vocab)):\n",
    "    vocabdict[vocab[itr]] = itr\n",
    "vocabdict\n",
    "#{'BLANK': 4, 'EXP': 1, 'START': 0, 'STOP': 3, 'UNEXP': 2}"
   ]
  },
  {
   "cell_type": "code",
   "execution_count": 16,
   "metadata": {},
   "outputs": [
    {
     "data": {
      "text/plain": [
       "array([['START', 'EXP', 'EXP', ..., 'BLANK', 'BLANK', 'STOP'],\n",
       "       ['START', 'EXP', 'EXP', ..., 'BLANK', 'BLANK', 'STOP'],\n",
       "       ['START', 'EXP', 'EXP', ..., 'BLANK', 'BLANK', 'STOP'],\n",
       "       ...,\n",
       "       ['START', 'EXP', 'EXP', ..., 'BLANK', 'BLANK', 'STOP'],\n",
       "       ['START', 'EXP', 'EXP', ..., 'BLANK', 'BLANK', 'STOP'],\n",
       "       ['START', 'EXP', 'EXP', ..., 'BLANK', 'BLANK', 'STOP']],\n",
       "      dtype='<U5')"
      ]
     },
     "execution_count": 16,
     "metadata": {},
     "output_type": "execute_result"
    }
   ],
   "source": [
    "Y_Vector"
   ]
  },
  {
   "cell_type": "code",
   "execution_count": 9,
   "metadata": {},
   "outputs": [],
   "source": [
    "data = data.reshape((1, 10, 1))"
   ]
  },
  {
   "cell_type": "code",
   "execution_count": 10,
   "metadata": {},
   "outputs": [
    {
     "name": "stdout",
     "output_type": "stream",
     "text": [
      "[[[0.1]\n",
      "  [0.2]\n",
      "  [0.3]\n",
      "  [0.4]\n",
      "  [0.5]\n",
      "  [0.6]\n",
      "  [0.7]\n",
      "  [0.8]\n",
      "  [0.9]\n",
      "  [1. ]]]\n"
     ]
    }
   ],
   "source": [
    "print(data)"
   ]
  },
  {
   "cell_type": "code",
   "execution_count": 13,
   "metadata": {},
   "outputs": [
    {
     "name": "stdout",
     "output_type": "stream",
     "text": [
      "Collecting keras\n",
      "\u001b[?25l  Downloading https://files.pythonhosted.org/packages/5e/10/aa32dad071ce52b5502266b5c659451cfd6ffcbf14e6c8c4f16c0ff5aaab/Keras-2.2.4-py2.py3-none-any.whl (312kB)\n",
      "\u001b[K    100% |################################| 317kB 6.2MB/s ta 0:00:011\n",
      "\u001b[?25hRequirement already satisfied: h5py in /usr/local/lib/python3.5/dist-packages (from keras) (2.8.0)\n",
      "Requirement already satisfied: keras-preprocessing>=1.0.5 in /usr/local/lib/python3.5/dist-packages (from keras) (1.0.5)\n",
      "Requirement already satisfied: scipy>=0.14 in /usr/local/lib/python3.5/dist-packages (from keras) (1.1.0)\n",
      "Requirement already satisfied: six>=1.9.0 in /usr/local/lib/python3.5/dist-packages (from keras) (1.11.0)\n",
      "Requirement already satisfied: numpy>=1.9.1 in /usr/local/lib/python3.5/dist-packages (from keras) (1.15.4)\n",
      "Collecting pyyaml (from keras)\n",
      "\u001b[?25l  Downloading https://files.pythonhosted.org/packages/9e/a3/1d13970c3f36777c583f136c136f804d70f500168edc1edea6daa7200769/PyYAML-3.13.tar.gz (270kB)\n",
      "\u001b[K    100% |################################| 276kB 7.2MB/s ta 0:00:011\n",
      "\u001b[?25hRequirement already satisfied: keras-applications>=1.0.6 in /usr/local/lib/python3.5/dist-packages (from keras) (1.0.6)\n",
      "Building wheels for collected packages: pyyaml\n",
      "  Running setup.py bdist_wheel for pyyaml ... \u001b[?25ldone\n",
      "\u001b[?25h  Stored in directory: /root/.cache/pip/wheels/ad/da/0c/74eb680767247273e2cf2723482cb9c924fe70af57c334513f\n",
      "Successfully built pyyaml\n",
      "Installing collected packages: pyyaml, keras\n",
      "Successfully installed keras-2.2.4 pyyaml-3.13\n"
     ]
    }
   ],
   "source": [
    "#!pip install keras\n",
    "#{'BLANK': 1,\n",
    " #'FETCHBOX': 0,\n",
    " #'OBSERVE': 3,\n",
    " #'START': 2,\n",
    " #'STOP': 4,\n",
    " #'UNEXP': 6,\n",
    " #'UNFETCH': 5}\n"
   ]
  },
  {
   "cell_type": "code",
   "execution_count": 17,
   "metadata": {},
   "outputs": [],
   "source": [
    "from keras.models import Sequential, load_model,model_from_yaml\n",
    "from keras.layers import Dense, Activation, Dropout, LSTM, CuDNNGRU, CuDNNLSTM\n",
    "from keras.optimizers import RMSprop, SGD\n",
    "import random\n",
    "import sys"
   ]
  },
  {
   "cell_type": "code",
   "execution_count": 19,
   "metadata": {},
   "outputs": [],
   "source": [
    "X_Vector = X_Vector.reshape((4422, 28, 40))"
   ]
  },
  {
   "cell_type": "code",
   "execution_count": 20,
   "metadata": {},
   "outputs": [
    {
     "data": {
      "text/plain": [
       "array([[[1, 0, 0, 0, 0],\n",
       "        [0, 1, 0, 0, 0],\n",
       "        [0, 1, 0, 0, 0],\n",
       "        ...,\n",
       "        [0, 0, 0, 0, 1],\n",
       "        [0, 0, 0, 0, 1],\n",
       "        [0, 0, 0, 1, 0]],\n",
       "\n",
       "       [[1, 0, 0, 0, 0],\n",
       "        [0, 1, 0, 0, 0],\n",
       "        [0, 1, 0, 0, 0],\n",
       "        ...,\n",
       "        [0, 0, 0, 0, 1],\n",
       "        [0, 0, 0, 0, 1],\n",
       "        [0, 0, 0, 1, 0]],\n",
       "\n",
       "       [[1, 0, 0, 0, 0],\n",
       "        [0, 1, 0, 0, 0],\n",
       "        [0, 1, 0, 0, 0],\n",
       "        ...,\n",
       "        [0, 0, 0, 0, 1],\n",
       "        [0, 0, 0, 0, 1],\n",
       "        [0, 0, 0, 1, 0]],\n",
       "\n",
       "       ...,\n",
       "\n",
       "       [[1, 0, 0, 0, 0],\n",
       "        [0, 1, 0, 0, 0],\n",
       "        [0, 1, 0, 0, 0],\n",
       "        ...,\n",
       "        [0, 0, 0, 0, 1],\n",
       "        [0, 0, 0, 0, 1],\n",
       "        [0, 0, 0, 1, 0]],\n",
       "\n",
       "       [[1, 0, 0, 0, 0],\n",
       "        [0, 1, 0, 0, 0],\n",
       "        [0, 1, 0, 0, 0],\n",
       "        ...,\n",
       "        [0, 0, 0, 0, 1],\n",
       "        [0, 0, 0, 0, 1],\n",
       "        [0, 0, 0, 1, 0]],\n",
       "\n",
       "       [[1, 0, 0, 0, 0],\n",
       "        [0, 1, 0, 0, 0],\n",
       "        [0, 1, 0, 0, 0],\n",
       "        ...,\n",
       "        [0, 0, 0, 0, 1],\n",
       "        [0, 0, 0, 0, 1],\n",
       "        [0, 0, 0, 1, 0]]])"
      ]
     },
     "execution_count": 20,
     "metadata": {},
     "output_type": "execute_result"
    }
   ],
   "source": [
    "Y_Vector_actual = []\n",
    "\n",
    "for ity in range(len(Y_Vector)):\n",
    "    Y_Vector_local = []\n",
    "    for ityy in range(len(Y_Vector[ity])):\n",
    "        cool_vector = [0,0,0,0,0]\n",
    "        cool_vector[vocabdict[Y_Vector[ity][ityy]]] = 1\n",
    "        Y_Vector_local.append(cool_vector)\n",
    "    Y_Vector_actual.append(Y_Vector_local)\n",
    "    \n",
    "Y_Vector_actual = np.array(Y_Vector_actual)\n",
    "Y_Vector_actual"
   ]
  },
  {
   "cell_type": "code",
   "execution_count": 21,
   "metadata": {},
   "outputs": [
    {
     "data": {
      "text/plain": [
       "(4422, 28, 40)"
      ]
     },
     "execution_count": 21,
     "metadata": {},
     "output_type": "execute_result"
    }
   ],
   "source": [
    "np.shape(X_Vector)"
   ]
  },
  {
   "cell_type": "code",
   "execution_count": 22,
   "metadata": {},
   "outputs": [
    {
     "data": {
      "text/plain": [
       "(4422, 28, 5)"
      ]
     },
     "execution_count": 22,
     "metadata": {},
     "output_type": "execute_result"
    }
   ],
   "source": [
    "np.shape(Y_Vector_actual)"
   ]
  },
  {
   "cell_type": "code",
   "execution_count": 26,
   "metadata": {},
   "outputs": [
    {
     "name": "stdout",
     "output_type": "stream",
     "text": [
      "_________________________________________________________________\n",
      "Layer (type)                 Output Shape              Param #   \n",
      "=================================================================\n",
      "cu_dnnlstm_3 (CuDNNLSTM)     (None, 28, 128)           87040     \n",
      "_________________________________________________________________\n",
      "cu_dnnlstm_4 (CuDNNLSTM)     (None, 28, 128)           132096    \n",
      "_________________________________________________________________\n",
      "dense_2 (Dense)              (None, 28, 5)             645       \n",
      "_________________________________________________________________\n",
      "activation_2 (Activation)    (None, 28, 5)             0         \n",
      "=================================================================\n",
      "Total params: 219,781\n",
      "Trainable params: 219,781\n",
      "Non-trainable params: 0\n",
      "_________________________________________________________________\n"
     ]
    }
   ],
   "source": [
    "#model \n",
    "model = Sequential()\n",
    "model.add(CuDNNLSTM(128,input_shape=(28, 40), return_sequences=True))\n",
    "model.add(CuDNNLSTM(128, return_sequences=True))\n",
    "model.add(Dense(5))\n",
    "model.add(Activation('softmax'))\n",
    "model.summary()"
   ]
  },
  {
   "cell_type": "code",
   "execution_count": 27,
   "metadata": {},
   "outputs": [],
   "source": [
    "algorithm = SGD(lr=0.1, momentum=0.3)\n",
    "model.compile(optimizer=algorithm, loss='mean_squared_error', metrics=['accuracy'])"
   ]
  },
  {
   "cell_type": "code",
   "execution_count": 38,
   "metadata": {},
   "outputs": [
    {
     "name": "stdout",
     "output_type": "stream",
     "text": [
      "Train on 3537 samples, validate on 885 samples\n",
      "Epoch 1/100\n",
      "3537/3537 [==============================] - 3s 935us/step - loss: 5.7911e-04 - acc: 0.9971 - val_loss: 0.0039 - val_acc: 0.9883\n",
      "Epoch 2/100\n",
      "3537/3537 [==============================] - 3s 941us/step - loss: 5.7061e-04 - acc: 0.9971 - val_loss: 0.0039 - val_acc: 0.9883\n",
      "Epoch 3/100\n",
      "3537/3537 [==============================] - 3s 944us/step - loss: 5.6974e-04 - acc: 0.9974 - val_loss: 0.0039 - val_acc: 0.9885\n",
      "Epoch 4/100\n",
      "3537/3537 [==============================] - 3s 946us/step - loss: 5.7326e-04 - acc: 0.9973 - val_loss: 0.0038 - val_acc: 0.9888\n",
      "Epoch 5/100\n",
      "3537/3537 [==============================] - 3s 938us/step - loss: 5.6032e-04 - acc: 0.9975 - val_loss: 0.0038 - val_acc: 0.9885\n",
      "Epoch 6/100\n",
      "3537/3537 [==============================] - 3s 939us/step - loss: 5.7131e-04 - acc: 0.9973 - val_loss: 0.0039 - val_acc: 0.9885\n",
      "Epoch 7/100\n",
      "3537/3537 [==============================] - 3s 949us/step - loss: 5.7760e-04 - acc: 0.9974 - val_loss: 0.0039 - val_acc: 0.9884\n",
      "Epoch 8/100\n",
      "3537/3537 [==============================] - 3s 938us/step - loss: 5.6963e-04 - acc: 0.9977 - val_loss: 0.0038 - val_acc: 0.9887\n",
      "Epoch 9/100\n",
      "3537/3537 [==============================] - 3s 947us/step - loss: 5.8380e-04 - acc: 0.9972 - val_loss: 0.0039 - val_acc: 0.9885\n",
      "Epoch 10/100\n",
      "3537/3537 [==============================] - 3s 939us/step - loss: 5.6968e-04 - acc: 0.9974 - val_loss: 0.0038 - val_acc: 0.9885\n",
      "Epoch 11/100\n",
      "3537/3537 [==============================] - 3s 937us/step - loss: 5.6967e-04 - acc: 0.9977 - val_loss: 0.0039 - val_acc: 0.9885\n",
      "Epoch 12/100\n",
      "3537/3537 [==============================] - 3s 939us/step - loss: 5.7628e-04 - acc: 0.9970 - val_loss: 0.0038 - val_acc: 0.9884\n",
      "Epoch 13/100\n",
      "3537/3537 [==============================] - 3s 936us/step - loss: 5.7573e-04 - acc: 0.9973 - val_loss: 0.0038 - val_acc: 0.9884\n",
      "Epoch 14/100\n",
      "3537/3537 [==============================] - 3s 960us/step - loss: 5.7959e-04 - acc: 0.9972 - val_loss: 0.0038 - val_acc: 0.9886\n",
      "Epoch 15/100\n",
      "3537/3537 [==============================] - 3s 970us/step - loss: 5.8128e-04 - acc: 0.9972 - val_loss: 0.0038 - val_acc: 0.9888\n",
      "Epoch 16/100\n",
      "3537/3537 [==============================] - 3s 935us/step - loss: 5.5580e-04 - acc: 0.9978 - val_loss: 0.0038 - val_acc: 0.9887\n",
      "Epoch 17/100\n",
      "3537/3537 [==============================] - 3s 935us/step - loss: 5.8719e-04 - acc: 0.9970 - val_loss: 0.0038 - val_acc: 0.9889\n",
      "Epoch 18/100\n",
      "3537/3537 [==============================] - 3s 986us/step - loss: 5.7159e-04 - acc: 0.9973 - val_loss: 0.0038 - val_acc: 0.9886\n",
      "Epoch 19/100\n",
      "3537/3537 [==============================] - 3s 940us/step - loss: 5.7040e-04 - acc: 0.9973 - val_loss: 0.0039 - val_acc: 0.9887\n",
      "Epoch 20/100\n",
      "3537/3537 [==============================] - 3s 944us/step - loss: 5.7225e-04 - acc: 0.9971 - val_loss: 0.0039 - val_acc: 0.9883\n",
      "Epoch 21/100\n",
      "3537/3537 [==============================] - 3s 939us/step - loss: 5.8112e-04 - acc: 0.9970 - val_loss: 0.0038 - val_acc: 0.9889\n",
      "Epoch 22/100\n",
      "3537/3537 [==============================] - 3s 935us/step - loss: 5.8230e-04 - acc: 0.9973 - val_loss: 0.0038 - val_acc: 0.9889\n",
      "Epoch 23/100\n",
      "3537/3537 [==============================] - 3s 938us/step - loss: 5.8348e-04 - acc: 0.9971 - val_loss: 0.0038 - val_acc: 0.9890\n",
      "Epoch 24/100\n",
      "3537/3537 [==============================] - 3s 923us/step - loss: 5.7121e-04 - acc: 0.9970 - val_loss: 0.0039 - val_acc: 0.9887\n",
      "Epoch 25/100\n",
      "3537/3537 [==============================] - 3s 930us/step - loss: 5.6551e-04 - acc: 0.9972 - val_loss: 0.0038 - val_acc: 0.9886\n",
      "Epoch 26/100\n",
      "3537/3537 [==============================] - 3s 934us/step - loss: 5.7698e-04 - acc: 0.9972 - val_loss: 0.0039 - val_acc: 0.9887\n",
      "Epoch 27/100\n",
      "3537/3537 [==============================] - 3s 948us/step - loss: 5.7337e-04 - acc: 0.9975 - val_loss: 0.0039 - val_acc: 0.9887\n",
      "Epoch 28/100\n",
      "3537/3537 [==============================] - 3s 932us/step - loss: 5.7392e-04 - acc: 0.9972 - val_loss: 0.0039 - val_acc: 0.9886\n",
      "Epoch 29/100\n",
      "3537/3537 [==============================] - 3s 939us/step - loss: 5.7507e-04 - acc: 0.9975 - val_loss: 0.0039 - val_acc: 0.9885\n",
      "Epoch 30/100\n",
      "3537/3537 [==============================] - 3s 947us/step - loss: 5.6814e-04 - acc: 0.9973 - val_loss: 0.0038 - val_acc: 0.9888\n",
      "Epoch 31/100\n",
      "3537/3537 [==============================] - 3s 940us/step - loss: 5.7583e-04 - acc: 0.9973 - val_loss: 0.0039 - val_acc: 0.9885\n",
      "Epoch 32/100\n",
      "3537/3537 [==============================] - 3s 938us/step - loss: 5.6690e-04 - acc: 0.9973 - val_loss: 0.0038 - val_acc: 0.9886\n",
      "Epoch 33/100\n",
      "3537/3537 [==============================] - 3s 933us/step - loss: 5.6428e-04 - acc: 0.9975 - val_loss: 0.0039 - val_acc: 0.9886\n",
      "Epoch 34/100\n",
      "3537/3537 [==============================] - 3s 938us/step - loss: 5.7573e-04 - acc: 0.9975 - val_loss: 0.0047 - val_acc: 0.9864\n",
      "Epoch 35/100\n",
      "3537/3537 [==============================] - 3s 940us/step - loss: 5.9044e-04 - acc: 0.9972 - val_loss: 0.0038 - val_acc: 0.9888\n",
      "Epoch 36/100\n",
      "3537/3537 [==============================] - 3s 940us/step - loss: 5.5948e-04 - acc: 0.9977 - val_loss: 0.0038 - val_acc: 0.9887\n",
      "Epoch 37/100\n",
      "3537/3537 [==============================] - 3s 930us/step - loss: 5.6930e-04 - acc: 0.9975 - val_loss: 0.0038 - val_acc: 0.9885\n",
      "Epoch 38/100\n",
      "3537/3537 [==============================] - 3s 927us/step - loss: 5.7316e-04 - acc: 0.9972 - val_loss: 0.0039 - val_acc: 0.9886\n",
      "Epoch 39/100\n",
      "3537/3537 [==============================] - 3s 920us/step - loss: 5.7081e-04 - acc: 0.9971 - val_loss: 0.0038 - val_acc: 0.9886\n",
      "Epoch 40/100\n",
      "3537/3537 [==============================] - 3s 933us/step - loss: 5.8504e-04 - acc: 0.9970 - val_loss: 0.0039 - val_acc: 0.9887\n",
      "Epoch 41/100\n",
      "3537/3537 [==============================] - 3s 918us/step - loss: 5.7041e-04 - acc: 0.9972 - val_loss: 0.0039 - val_acc: 0.9885\n",
      "Epoch 42/100\n",
      "3537/3537 [==============================] - 3s 941us/step - loss: 5.5401e-04 - acc: 0.9978 - val_loss: 0.0039 - val_acc: 0.9885\n",
      "Epoch 43/100\n",
      "3537/3537 [==============================] - 3s 930us/step - loss: 5.7063e-04 - acc: 0.9974 - val_loss: 0.0039 - val_acc: 0.9886\n",
      "Epoch 44/100\n",
      "3537/3537 [==============================] - 3s 929us/step - loss: 5.6620e-04 - acc: 0.9974 - val_loss: 0.0039 - val_acc: 0.9883\n",
      "Epoch 45/100\n",
      "3537/3537 [==============================] - 3s 936us/step - loss: 5.5714e-04 - acc: 0.9975 - val_loss: 0.0039 - val_acc: 0.9887\n",
      "Epoch 46/100\n",
      "3537/3537 [==============================] - 3s 926us/step - loss: 5.7034e-04 - acc: 0.9972 - val_loss: 0.0040 - val_acc: 0.9881\n",
      "Epoch 47/100\n",
      "3537/3537 [==============================] - 3s 944us/step - loss: 5.6054e-04 - acc: 0.9974 - val_loss: 0.0039 - val_acc: 0.9885\n",
      "Epoch 48/100\n",
      "3537/3537 [==============================] - 3s 927us/step - loss: 5.6917e-04 - acc: 0.9971 - val_loss: 0.0039 - val_acc: 0.9885\n",
      "Epoch 49/100\n",
      "3537/3537 [==============================] - 3s 933us/step - loss: 5.6051e-04 - acc: 0.9976 - val_loss: 0.0039 - val_acc: 0.9885\n",
      "Epoch 50/100\n",
      "3537/3537 [==============================] - 3s 922us/step - loss: 5.7100e-04 - acc: 0.9972 - val_loss: 0.0039 - val_acc: 0.9883\n",
      "Epoch 51/100\n",
      "3537/3537 [==============================] - 3s 953us/step - loss: 5.7060e-04 - acc: 0.9974 - val_loss: 0.0038 - val_acc: 0.9887\n",
      "Epoch 52/100\n",
      "3537/3537 [==============================] - 3s 920us/step - loss: 5.7103e-04 - acc: 0.9972 - val_loss: 0.0039 - val_acc: 0.9886\n",
      "Epoch 53/100\n",
      "3537/3537 [==============================] - 3s 873us/step - loss: 5.6415e-04 - acc: 0.9975 - val_loss: 0.0039 - val_acc: 0.9883\n",
      "Epoch 54/100\n",
      "3537/3537 [==============================] - 3s 895us/step - loss: 5.7563e-04 - acc: 0.9972 - val_loss: 0.0039 - val_acc: 0.9885\n",
      "Epoch 55/100\n",
      "3537/3537 [==============================] - 3s 896us/step - loss: 5.6966e-04 - acc: 0.9971 - val_loss: 0.0039 - val_acc: 0.9889\n",
      "Epoch 56/100\n",
      "3537/3537 [==============================] - 3s 929us/step - loss: 5.7113e-04 - acc: 0.9970 - val_loss: 0.0039 - val_acc: 0.9884\n",
      "Epoch 57/100\n",
      "3537/3537 [==============================] - 3s 929us/step - loss: 5.7113e-04 - acc: 0.9972 - val_loss: 0.0039 - val_acc: 0.9883\n",
      "Epoch 58/100\n",
      "3537/3537 [==============================] - 3s 919us/step - loss: 5.6919e-04 - acc: 0.9971 - val_loss: 0.0039 - val_acc: 0.9886\n",
      "Epoch 59/100\n",
      "3537/3537 [==============================] - 3s 910us/step - loss: 5.6891e-04 - acc: 0.9972 - val_loss: 0.0039 - val_acc: 0.9887\n",
      "Epoch 60/100\n",
      "3537/3537 [==============================] - 3s 909us/step - loss: 5.7137e-04 - acc: 0.9969 - val_loss: 0.0039 - val_acc: 0.9885\n",
      "Epoch 61/100\n",
      "3537/3537 [==============================] - 3s 920us/step - loss: 5.6005e-04 - acc: 0.9974 - val_loss: 0.0039 - val_acc: 0.9887\n",
      "Epoch 62/100\n",
      "3537/3537 [==============================] - 3s 915us/step - loss: 5.7637e-04 - acc: 0.9971 - val_loss: 0.0039 - val_acc: 0.9887\n",
      "Epoch 63/100\n",
      "3537/3537 [==============================] - 3s 915us/step - loss: 5.6829e-04 - acc: 0.9971 - val_loss: 0.0038 - val_acc: 0.9887\n",
      "Epoch 64/100\n",
      "3537/3537 [==============================] - 3s 920us/step - loss: 5.6149e-04 - acc: 0.9973 - val_loss: 0.0039 - val_acc: 0.9882\n",
      "Epoch 65/100\n",
      "3537/3537 [==============================] - 3s 915us/step - loss: 5.6462e-04 - acc: 0.9974 - val_loss: 0.0039 - val_acc: 0.9888\n",
      "Epoch 66/100\n",
      "3537/3537 [==============================] - 3s 918us/step - loss: 5.5503e-04 - acc: 0.9974 - val_loss: 0.0039 - val_acc: 0.9885\n",
      "Epoch 67/100\n",
      "3537/3537 [==============================] - 3s 913us/step - loss: 5.6633e-04 - acc: 0.9974 - val_loss: 0.0039 - val_acc: 0.9885\n",
      "Epoch 68/100\n",
      "3537/3537 [==============================] - 3s 915us/step - loss: 5.5717e-04 - acc: 0.9976 - val_loss: 0.0039 - val_acc: 0.9885\n",
      "Epoch 69/100\n",
      "3537/3537 [==============================] - 3s 922us/step - loss: 5.7096e-04 - acc: 0.9974 - val_loss: 0.0038 - val_acc: 0.9888\n",
      "Epoch 70/100\n",
      "3537/3537 [==============================] - 3s 921us/step - loss: 5.6666e-04 - acc: 0.9974 - val_loss: 0.0039 - val_acc: 0.9883\n",
      "Epoch 71/100\n",
      "3537/3537 [==============================] - 3s 915us/step - loss: 5.7238e-04 - acc: 0.9970 - val_loss: 0.0040 - val_acc: 0.9885\n",
      "Epoch 72/100\n",
      "3537/3537 [==============================] - 3s 920us/step - loss: 5.5883e-04 - acc: 0.9975 - val_loss: 0.0039 - val_acc: 0.9882\n",
      "Epoch 73/100\n",
      "3537/3537 [==============================] - 3s 925us/step - loss: 5.5471e-04 - acc: 0.9978 - val_loss: 0.0040 - val_acc: 0.9883\n",
      "Epoch 74/100\n",
      "3537/3537 [==============================] - 3s 920us/step - loss: 5.6198e-04 - acc: 0.9978 - val_loss: 0.0039 - val_acc: 0.9887\n",
      "Epoch 75/100\n",
      "3537/3537 [==============================] - 3s 917us/step - loss: 5.5754e-04 - acc: 0.9975 - val_loss: 0.0039 - val_acc: 0.9886\n",
      "Epoch 76/100\n",
      "3537/3537 [==============================] - 3s 922us/step - loss: 5.6370e-04 - acc: 0.9974 - val_loss: 0.0039 - val_acc: 0.9886\n",
      "Epoch 77/100\n",
      "3537/3537 [==============================] - 3s 915us/step - loss: 5.6390e-04 - acc: 0.9974 - val_loss: 0.0039 - val_acc: 0.9888\n",
      "Epoch 78/100\n",
      "3537/3537 [==============================] - 3s 919us/step - loss: 5.7339e-04 - acc: 0.9971 - val_loss: 0.0039 - val_acc: 0.9885\n",
      "Epoch 79/100\n",
      "3537/3537 [==============================] - 3s 920us/step - loss: 5.7106e-04 - acc: 0.9974 - val_loss: 0.0038 - val_acc: 0.9887\n",
      "Epoch 80/100\n",
      "3537/3537 [==============================] - 3s 921us/step - loss: 5.6494e-04 - acc: 0.9973 - val_loss: 0.0040 - val_acc: 0.9886\n",
      "Epoch 81/100\n",
      "3537/3537 [==============================] - 3s 917us/step - loss: 5.6939e-04 - acc: 0.9971 - val_loss: 0.0039 - val_acc: 0.9887\n",
      "Epoch 82/100\n",
      "3537/3537 [==============================] - 3s 921us/step - loss: 5.5803e-04 - acc: 0.9973 - val_loss: 0.0040 - val_acc: 0.9883\n",
      "Epoch 83/100\n",
      "3537/3537 [==============================] - 3s 957us/step - loss: 5.6642e-04 - acc: 0.9972 - val_loss: 0.0039 - val_acc: 0.9886\n",
      "Epoch 84/100\n",
      "3537/3537 [==============================] - 3s 977us/step - loss: 5.6567e-04 - acc: 0.9973 - val_loss: 0.0039 - val_acc: 0.9888\n",
      "Epoch 85/100\n",
      "3537/3537 [==============================] - 3s 943us/step - loss: 5.6555e-04 - acc: 0.9973 - val_loss: 0.0038 - val_acc: 0.9888\n",
      "Epoch 86/100\n",
      "3537/3537 [==============================] - 3s 924us/step - loss: 5.6787e-04 - acc: 0.9972 - val_loss: 0.0039 - val_acc: 0.9888\n",
      "Epoch 87/100\n",
      "3537/3537 [==============================] - 3s 926us/step - loss: 5.6722e-04 - acc: 0.9973 - val_loss: 0.0039 - val_acc: 0.9887\n",
      "Epoch 88/100\n",
      "3537/3537 [==============================] - 3s 925us/step - loss: 5.4731e-04 - acc: 0.9977 - val_loss: 0.0039 - val_acc: 0.9887\n",
      "Epoch 89/100\n",
      "3537/3537 [==============================] - 3s 939us/step - loss: 5.6443e-04 - acc: 0.9972 - val_loss: 0.0039 - val_acc: 0.9885\n",
      "Epoch 90/100\n",
      "3537/3537 [==============================] - 3s 923us/step - loss: 5.6103e-04 - acc: 0.9974 - val_loss: 0.0039 - val_acc: 0.9884\n",
      "Epoch 91/100\n",
      "3537/3537 [==============================] - 3s 925us/step - loss: 5.6409e-04 - acc: 0.9972 - val_loss: 0.0039 - val_acc: 0.9885\n",
      "Epoch 92/100\n",
      "3537/3537 [==============================] - 3s 958us/step - loss: 5.5623e-04 - acc: 0.9974 - val_loss: 0.0039 - val_acc: 0.9889\n",
      "Epoch 93/100\n",
      "3537/3537 [==============================] - 3s 984us/step - loss: 5.6660e-04 - acc: 0.9973 - val_loss: 0.0039 - val_acc: 0.9888\n",
      "Epoch 94/100\n",
      "3537/3537 [==============================] - 3s 963us/step - loss: 5.7080e-04 - acc: 0.9973 - val_loss: 0.0039 - val_acc: 0.9886\n",
      "Epoch 95/100\n",
      "3537/3537 [==============================] - 3s 929us/step - loss: 5.6490e-04 - acc: 0.9974 - val_loss: 0.0039 - val_acc: 0.9885\n",
      "Epoch 96/100\n",
      "3537/3537 [==============================] - 3s 940us/step - loss: 5.5877e-04 - acc: 0.9973 - val_loss: 0.0039 - val_acc: 0.9885\n",
      "Epoch 97/100\n",
      "3537/3537 [==============================] - 3s 971us/step - loss: 5.5699e-04 - acc: 0.9973 - val_loss: 0.0039 - val_acc: 0.9886\n",
      "Epoch 98/100\n",
      "3537/3537 [==============================] - 3s 946us/step - loss: 5.6785e-04 - acc: 0.9972 - val_loss: 0.0039 - val_acc: 0.9887\n",
      "Epoch 99/100\n",
      "3537/3537 [==============================] - 3s 930us/step - loss: 5.6130e-04 - acc: 0.9973 - val_loss: 0.0039 - val_acc: 0.9883\n",
      "Epoch 100/100\n",
      "3537/3537 [==============================] - 4s 993us/step - loss: 5.5922e-04 - acc: 0.9974 - val_loss: 0.0039 - val_acc: 0.9886\n",
      "dict_keys(['val_loss', 'loss', 'val_acc', 'acc'])\n"
     ]
    }
   ],
   "source": [
    "from sklearn.model_selection import train_test_split\n",
    "data_train, data_test, labels_train, labels_test = train_test_split(X_Vector, Y_Vector_actual, test_size=0.20, random_state=39)\n",
    "history = model.fit(X_Vector, Y_Vector_actual, validation_split=0.20, batch_size=10, epochs=100)\n",
    "# list all data in history\n",
    "print(history.history.keys())"
   ]
  },
  {
   "cell_type": "code",
   "execution_count": 29,
   "metadata": {},
   "outputs": [],
   "source": [
    "import matplotlib.pyplot as plt"
   ]
  },
  {
   "cell_type": "code",
   "execution_count": 30,
   "metadata": {
    "scrolled": true
   },
   "outputs": [
    {
     "data": {
      "image/png": "[encoded data removed]",
      "text/plain": [
       "<Figure size 432x288 with 1 Axes>"
      ]
     },
     "metadata": {
      "needs_background": "light"
     },
     "output_type": "display_data"
    }
   ],
   "source": [
    "plt.plot(history.history['acc'])\n",
    "plt.plot(history.history['val_acc'])\n",
    "plt.title('model accuracy')\n",
    "plt.ylabel('accuracy')\n",
    "plt.xlabel('epoch')\n",
    "plt.legend(['train', 'test'], loc='upper left')\n",
    "plt.show()"
   ]
  },
  {
   "cell_type": "code",
   "execution_count": 31,
   "metadata": {},
   "outputs": [
    {
     "data": {
      "image/png": "[encoded data removed]",
      "text/plain": [
       "<Figure size 432x288 with 1 Axes>"
      ]
     },
     "metadata": {
      "needs_background": "light"
     },
     "output_type": "display_data"
    }
   ],
   "source": [
    "plt.plot(history.history['loss'])\n",
    "plt.plot(history.history['val_loss'])\n",
    "plt.title('model loss')\n",
    "plt.ylabel('loss')\n",
    "plt.xlabel('epoch')\n",
    "plt.legend(['train', 'test'], loc='upper left')\n",
    "plt.show()"
   ]
  },
  {
   "cell_type": "code",
   "execution_count": 32,
   "metadata": {},
   "outputs": [],
   "source": [
    "model.save(\"Sequential_Labels_DNNLSTM_55.h5\")"
   ]
  },
  {
   "cell_type": "code",
   "execution_count": 33,
   "metadata": {},
   "outputs": [
    {
     "data": {
      "text/plain": [
       "array([[1, 0, 0, 0, 0],\n",
       "       [0, 1, 0, 0, 0],\n",
       "       [0, 1, 0, 0, 0],\n",
       "       [0, 1, 0, 0, 0],\n",
       "       [0, 1, 0, 0, 0],\n",
       "       [0, 1, 0, 0, 0],\n",
       "       [0, 1, 0, 0, 0],\n",
       "       [0, 1, 0, 0, 0],\n",
       "       [0, 1, 0, 0, 0],\n",
       "       [0, 1, 0, 0, 0],\n",
       "       [0, 1, 0, 0, 0],\n",
       "       [0, 1, 0, 0, 0],\n",
       "       [0, 1, 0, 0, 0],\n",
       "       [0, 1, 0, 0, 0],\n",
       "       [0, 1, 0, 0, 0],\n",
       "       [0, 1, 0, 0, 0],\n",
       "       [0, 1, 0, 0, 0],\n",
       "       [0, 0, 0, 0, 1],\n",
       "       [0, 0, 0, 0, 1],\n",
       "       [0, 0, 0, 0, 1],\n",
       "       [0, 0, 0, 0, 1],\n",
       "       [0, 0, 0, 0, 1],\n",
       "       [0, 0, 0, 0, 1],\n",
       "       [0, 0, 0, 0, 1],\n",
       "       [0, 0, 0, 0, 1],\n",
       "       [0, 0, 0, 0, 1],\n",
       "       [0, 0, 0, 0, 1],\n",
       "       [0, 0, 0, 1, 0]])"
      ]
     },
     "execution_count": 33,
     "metadata": {},
     "output_type": "execute_result"
    }
   ],
   "source": [
    "Y_Vector_actual[546]"
   ]
  },
  {
   "cell_type": "code",
   "execution_count": 34,
   "metadata": {},
   "outputs": [
    {
     "data": {
      "text/plain": [
       "array(['START', 'EXP', 'EXP', 'EXP', 'EXP', 'EXP', 'EXP', 'EXP', 'EXP',\n",
       "       'EXP', 'EXP', 'EXP', 'EXP', 'EXP', 'EXP', 'EXP', 'EXP', 'BLANK',\n",
       "       'BLANK', 'BLANK', 'BLANK', 'BLANK', 'BLANK', 'BLANK', 'BLANK',\n",
       "       'BLANK', 'BLANK', 'STOP'], dtype='<U5')"
      ]
     },
     "execution_count": 34,
     "metadata": {},
     "output_type": "execute_result"
    }
   ],
   "source": [
    "Y_Vector[546]"
   ]
  },
  {
   "cell_type": "code",
   "execution_count": 35,
   "metadata": {},
   "outputs": [
    {
     "data": {
      "text/plain": [
       "array([[1, 0, 0, ..., 0, 0, 0],\n",
       "       [0, 1, 0, ..., 0, 0, 1],\n",
       "       [0, 1, 0, ..., 0, 1, 0],\n",
       "       ...,\n",
       "       [1, 1, 1, ..., 0, 0, 0],\n",
       "       [1, 1, 1, ..., 0, 0, 0],\n",
       "       [1, 1, 0, ..., 0, 0, 0]])"
      ]
     },
     "execution_count": 35,
     "metadata": {},
     "output_type": "execute_result"
    }
   ],
   "source": [
    "X_Vector[546]"
   ]
  },
  {
   "cell_type": "code",
   "execution_count": 37,
   "metadata": {},
   "outputs": [
    {
     "name": "stdout",
     "output_type": "stream",
     "text": [
      "(array([0]),)\n",
      "(array([1]),)\n",
      "(array([1]),)\n",
      "(array([1]),)\n",
      "(array([1]),)\n",
      "(array([1]),)\n",
      "(array([1]),)\n",
      "(array([1]),)\n",
      "(array([1]),)\n",
      "(array([1]),)\n",
      "(array([1]),)\n",
      "(array([1]),)\n",
      "(array([1]),)\n",
      "(array([1]),)\n",
      "(array([1]),)\n",
      "(array([1]),)\n",
      "(array([1]),)\n",
      "(array([4]),)\n",
      "(array([4]),)\n",
      "(array([4]),)\n",
      "(array([4]),)\n",
      "(array([4]),)\n",
      "(array([4]),)\n",
      "(array([4]),)\n",
      "(array([4]),)\n",
      "(array([4]),)\n",
      "(array([4]),)\n",
      "(array([3]),)\n"
     ]
    }
   ],
   "source": [
    "resultss = model.predict(X_Vector[546].reshape(1, 28, 40))\n",
    "for results in resultss:\n",
    "    for res in results:\n",
    "        maxi = np.max(res)\n",
    "        print(np.where(res == maxi))  "
   ]
  },
  {
   "cell_type": "code",
   "execution_count": 67,
   "metadata": {},
   "outputs": [
    {
     "name": "stdout",
     "output_type": "stream",
     "text": [
      "3.5.2 (default, Nov 23 2017, 16:37:01) \n",
      "[GCC 5.4.0 20160609]\n"
     ]
    }
   ],
   "source": [
    " print (sys.version)"
   ]
  },
  {
   "cell_type": "code",
   "execution_count": 69,
   "metadata": {},
   "outputs": [
    {
     "name": "stdout",
     "output_type": "stream",
     "text": [
      "1.12.0\n"
     ]
    }
   ],
   "source": [
    "import tensorflow as tf\n",
    "print(tf.__version__)"
   ]
  },
  {
   "cell_type": "code",
   "execution_count": 70,
   "metadata": {},
   "outputs": [
    {
     "name": "stdout",
     "output_type": "stream",
     "text": [
      "Package             Version               \r\n",
      "------------------- ----------------------\r\n",
      "absl-py             0.6.1                 \r\n",
      "astor               0.7.1                 \r\n",
      "backcall            0.1.0                 \r\n",
      "bleach              3.0.2                 \r\n",
      "cycler              0.10.0                \r\n",
      "decorator           4.3.0                 \r\n",
      "defusedxml          0.5.0                 \r\n",
      "entrypoints         0.2.3                 \r\n",
      "gast                0.2.0                 \r\n",
      "grpcio              1.16.0                \r\n",
      "h5py                2.8.0                 \r\n",
      "ipykernel           5.1.0                 \r\n",
      "ipython             7.1.1                 \r\n",
      "ipython-genutils    0.2.0                 \r\n",
      "ipywidgets          7.4.2                 \r\n",
      "jedi                0.13.1                \r\n",
      "Jinja2              2.10                  \r\n",
      "jsonschema          2.6.0                 \r\n",
      "jupyter             1.0.0                 \r\n",
      "jupyter-client      5.2.3                 \r\n",
      "jupyter-console     6.0.0                 \r\n",
      "jupyter-core        4.4.0                 \r\n",
      "Keras               2.2.4                 \r\n",
      "Keras-Applications  1.0.6                 \r\n",
      "Keras-Preprocessing 1.0.5                 \r\n",
      "kiwisolver          1.0.1                 \r\n",
      "Markdown            3.0.1                 \r\n",
      "MarkupSafe          1.1.0                 \r\n",
      "matplotlib          3.0.1                 \r\n",
      "mistune             0.8.4                 \r\n",
      "nbconvert           5.4.0                 \r\n",
      "nbformat            4.4.0                 \r\n",
      "notebook            5.7.0                 \r\n",
      "numpy               1.15.4                \r\n",
      "pandas              0.23.4                \r\n",
      "pandocfilters       1.4.2                 \r\n",
      "parso               0.3.1                 \r\n",
      "pexpect             4.6.0                 \r\n",
      "pickleshare         0.7.5                 \r\n",
      "Pillow              5.3.0                 \r\n",
      "pip                 18.1                  \r\n",
      "prometheus-client   0.4.2                 \r\n",
      "prompt-toolkit      2.0.7                 \r\n",
      "protobuf            3.6.1                 \r\n",
      "ptyprocess          0.6.0                 \r\n",
      "pycurl              7.43.0                \r\n",
      "Pygments            2.2.0                 \r\n",
      "pygobject           3.20.0                \r\n",
      "pyparsing           2.3.0                 \r\n",
      "python-apt          1.1.0b1+ubuntu0.16.4.2\r\n",
      "python-dateutil     2.7.5                 \r\n",
      "pytz                2018.7                \r\n",
      "PyYAML              3.13                  \r\n",
      "pyzmq               17.1.2                \r\n",
      "qtconsole           4.4.2                 \r\n",
      "scikit-learn        0.20.0                \r\n",
      "scipy               1.1.0                 \r\n",
      "Send2Trash          1.5.0                 \r\n",
      "setuptools          40.5.0                \r\n",
      "six                 1.11.0                \r\n",
      "sklearn             0.0                   \r\n",
      "tensorboard         1.12.0                \r\n",
      "tensorflow-gpu      1.12.0                \r\n",
      "termcolor           1.1.0                 \r\n",
      "terminado           0.8.1                 \r\n",
      "testpath            0.4.2                 \r\n",
      "tornado             5.1.1                 \r\n",
      "traitlets           4.3.2                 \r\n",
      "wcwidth             0.1.7                 \r\n",
      "webencodings        0.5.1                 \r\n",
      "Werkzeug            0.14.1                \r\n",
      "wheel               0.32.2                \r\n",
      "widgetsnbextension  3.4.2                 \r\n"
     ]
    }
   ],
   "source": [
    "!pip list"
   ]
  },
  {
   "cell_type": "code",
   "execution_count": null,
   "metadata": {},
   "outputs": [],
   "source": []
  }
 ],
 "metadata": {
  "kernelspec": {
   "display_name": "Python 3",
   "language": "python",
   "name": "python3"
  },
  "language_info": {
   "codemirror_mode": {
    "name": "ipython",
    "version": 3
   },
   "file_extension": ".py",
   "mimetype": "text/x-python",
   "name": "python",
   "nbconvert_exporter": "python",
   "pygments_lexer": "ipython3",
   "version": "3.5.2"
  }
 },
 "nbformat": 4,
 "nbformat_minor": 2
}
