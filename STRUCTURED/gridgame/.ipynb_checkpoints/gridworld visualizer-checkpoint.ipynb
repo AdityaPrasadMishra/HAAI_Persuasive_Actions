{
 "cells": [
  {
   "cell_type": "code",
   "execution_count": 1,
   "metadata": {},
   "outputs": [
    {
     "name": "stdout",
     "output_type": "stream",
     "text": [
      "pygame 1.9.4\n",
      "Hello from the pygame community. https://www.pygame.org/contribute.html\n"
     ]
    }
   ],
   "source": [
    "\"\"\"\n",
    " Pygame base template for opening a window\n",
    " \n",
    " Sample Python/Pygame Programs\n",
    " Simpson College Computer Science\n",
    " http://programarcadegames.com/\n",
    " http://simpson.edu/computer-science/\n",
    " \n",
    " Explanation video: http://youtu.be/vRB_983kUMc\n",
    "\"\"\"\n",
    " \n",
    "import pygame\n",
    " \n",
    "# Define some colors\n",
    "BLACK = (0, 0, 0)\n",
    "WHITE = (255, 255, 255)\n",
    "GREEN = (0, 255, 0)\n",
    "RED = (255, 0, 0)\n",
    " \n",
    "pygame.init()\n",
    " \n",
    "# Set the HEIGHT and WIDTH of the screen\n",
    "WINDOW_SIZE = [255, 255]\n",
    "screen = pygame.display.set_mode(WINDOW_SIZE)\n",
    " \n",
    "pygame.display.set_caption(\"My Game\")\n",
    " \n",
    "# Loop until the user clicks the close button.\n",
    "done = False\n",
    " \n",
    "# Used to manage how fast the screen updates\n",
    "clock = pygame.time.Clock()\n",
    " \n",
    "# -------- Main Program Loop -----------\n",
    "while not done:\n",
    "    # --- Main event loop\n",
    "    for event in pygame.event.get():\n",
    "        if event.type == pygame.QUIT:\n",
    "            done = True\n",
    " \n",
    "    # --- Game logic should go here\n",
    " \n",
    "    # --- Screen-clearing code goes here\n",
    " \n",
    "    # Here, we clear the screen to white. Don't put other drawing commands\n",
    "    # above this, or they will be erased with this command.\n",
    " \n",
    "    # If you want a background image, replace this clear with blit'ing the\n",
    "    # background image.\n",
    "    screen.fill(WHITE)\n",
    " \n",
    "    # --- Drawing code should go here\n",
    " \n",
    "    # --- Go ahead and update the screen with what we've drawn.\n",
    "    pygame.display.flip()\n",
    " \n",
    "    # --- Limit to 60 frames per second\n",
    "    clock.tick(60)\n",
    " \n",
    "# Close the window and quit.\n",
    "pygame.quit()"
   ]
  },
  {
   "cell_type": "code",
   "execution_count": null,
   "metadata": {},
   "outputs": [],
   "source": []
  }
 ],
 "metadata": {
  "kernelspec": {
   "display_name": "Python 3",
   "language": "python",
   "name": "python3"
  },
  "language_info": {
   "codemirror_mode": {
    "name": "ipython",
    "version": 3
   },
   "file_extension": ".py",
   "mimetype": "text/x-python",
   "name": "python",
   "nbconvert_exporter": "python",
   "pygments_lexer": "ipython3",
   "version": "3.7.0"
  }
 },
 "nbformat": 4,
 "nbformat_minor": 2
}
